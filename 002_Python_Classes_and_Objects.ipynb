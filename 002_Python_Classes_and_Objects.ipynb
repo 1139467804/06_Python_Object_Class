{
 "cells": [
  {
   "cell_type": "markdown",
   "metadata": {},
   "source": [
    "<small><small><i>\n",
    "All of these python notebooks are available at [ https://github.com/milaan9/Python4DataScience ]\n",
    "</i></small></small>"
   ]
  },
  {
   "cell_type": "markdown",
   "metadata": {},
   "source": [
    "# Python Objects and Classes\n",
    "\n",
    "In this class, you will learn about the core functionality of Python objects and classes. You'll learn what a class is, how to create it and use it in your program."
   ]
  },
  {
   "cell_type": "markdown",
   "metadata": {},
   "source": [
    "# Python Objects and Classes\n",
    "\n",
    "Python is an object oriented programming language. Unlike procedure oriented programming, where the main emphasis is on functions, object oriented programming stresses on objects.\n",
    "\n",
    "An object is simply a collection of data (variables) and methods (functions) that act on those data. Similarly, a class is a blueprint for that object.\n",
    "\n",
    "We can think of class as a sketch (prototype) of a house. It contains all the details about the floors, doors, windows etc. Based on these descriptions we build the house. House is the object.\n",
    "\n",
    "As many houses can be made from a house's blueprint, we can create many objects from a class. An object is also called an instance of a class and the process of creating this object is called **instantiation**."
   ]
  },
  {
   "cell_type": "markdown",
   "metadata": {},
   "source": [
    "## Defining a Class in Python\n",
    "\n",
    "Like function definitions begin with the [**`def`**](http://localhost:8888/notebooks/01_Learn_Python4Data/00_Python_Programming/Python_Keywords_List.ipynb) keyword in Python, class definitions begin with a [**`class`**](http://localhost:8888/notebooks/01_Learn_Python4Data/00_Python_Programming/Python_Keywords_List.ipynb) keyword.\n",
    "\n",
    "The first string inside the class is called docstring and has a brief description about the class. Although not mandatory, this is highly recommended.\n",
    "\n",
    "Here is a simple class definition.\n",
    "\n",
    "```python\n",
    "class MyNewClass:\n",
    "    '''This is a docstring. I have created a new class'''\n",
    "    pass\n",
    "```\n",
    "\n",
    "A class creates a new local [**namespace**](http://localhost:8888/notebooks/01_Learn_Python4Data/01_Python_Introduction/013_Python_Namespace_and_Scope.ipynb) where all its attributes are defined. Attributes may be data or functions.\n",
    "\n",
    "There are also special attributes in it that begins with double underscores **`__`**. For example, **`__doc__`** gives us the docstring of that class.\n",
    "\n",
    "As soon as we define a class, a new class object is created with the same name. This class object allows us to access the different attributes as well as to instantiate new objects of that class."
   ]
  },
  {
   "cell_type": "code",
   "execution_count": 1,
   "metadata": {},
   "outputs": [
    {
     "name": "stdout",
     "output_type": "stream",
     "text": [
      "10\n",
      "<function Person.greet at 0x0000028E4329DE50>\n",
      "This is a person class\n"
     ]
    }
   ],
   "source": [
    "# Example 1: Creating Class and Object in Python\n",
    "\n",
    "class Person:\n",
    "    \"This is a person class\"\n",
    "    age = 10\n",
    "\n",
    "    def greet(self):\n",
    "        print('Hello')\n",
    "\n",
    "\n",
    "# Output: 10\n",
    "print(Person.age)\n",
    "\n",
    "# Output: <function Person.greet>\n",
    "print(Person.greet)\n",
    "\n",
    "# Output: 'This is my second class'\n",
    "print(Person.__doc__)"
   ]
  },
  {
   "cell_type": "markdown",
   "metadata": {},
   "source": [
    "## Creating an Object in Python\n",
    "\n",
    "We saw that the class object could be used to access different attributes.\n",
    "\n",
    "It can also be used to create new object instances (instantiation) of that class. The procedure to create an object is similar to a [**function**](http://localhost:8888/notebooks/01_Learn_Python4Data/04_Python_Functions/001_Python_Functions.ipynb) call.\n",
    "\n",
    "```python\n",
    "harry = Person()\n",
    "```\n",
    "This will create a new object instance named **`harry`**. We can access the attributes of objects using the object name prefix.\n",
    "\n",
    "Attributes may be data or method. Methods of an object are corresponding functions of that class.\n",
    "\n",
    "This means to say, since **`Person.greet`** is a function object (attribute of class), **`Person.greet`** will be a method object."
   ]
  },
  {
   "cell_type": "code",
   "execution_count": 7,
   "metadata": {},
   "outputs": [
    {
     "name": "stdout",
     "output_type": "stream",
     "text": [
      "<function Person.greet at 0x0000028E4336F8B0>\n",
      "<bound method Person.greet of <__main__.Person object at 0x0000028E4328ECA0>>\n",
      "Hello\n"
     ]
    }
   ],
   "source": [
    "class Person:\n",
    "    \"This is a person class\"\n",
    "    age = 10\n",
    "\n",
    "    def greet(self):\n",
    "        print('Hello')\n",
    "\n",
    "\n",
    "# create a new object of Person class\n",
    "harry = Person()\n",
    "\n",
    "# Output: <function Person.greet>\n",
    "print(Person.greet)\n",
    "\n",
    "# Output: <bound method Person.greet of <__main__.Person object>>\n",
    "print(harry.greet)\n",
    "\n",
    "# Calling object's greet() method\n",
    "# Output: Hello\n",
    "harry.greet()"
   ]
  },
  {
   "cell_type": "markdown",
   "metadata": {},
   "source": [
    "**Explanation:**\n",
    "\n",
    "You may have noticed the **`self`** parameter in function definition inside the class but we called the method simply as **`harry.greet()`** without any [**arguments**](http://localhost:8888/notebooks/01_Learn_Python4Data/04_Python_Functions/004_Python_Function_Arguments.ipynb). It still worked.\n",
    "\n",
    "This is because, whenever an object calls its method, the object itself is passed as the first argument. So, **`harry.greet()`** translates into **`Person.greet(harry)`**.\n",
    "\n",
    "In general, calling a method with a list of n arguments is equivalent to calling the corresponding function with an argument list that is created by inserting the method's object before the first argument.\n",
    "\n",
    "For these reasons, the first argument of the function in class must be the object itself. This is conventionally called self. It can be named otherwise but we highly recommend to follow the convention.\n",
    "\n",
    "Now you must be familiar with class object, instance object, function object, method object and their differences."
   ]
  },
  {
   "cell_type": "markdown",
   "metadata": {},
   "source": [
    "## Constructors in Python\n",
    "\n",
    "Class functions that begin with double underscore **`__`** are called special functions as they have special meaning.\n",
    "\n",
    "Of one particular interest is the **`__init__()`** function. This special function gets called whenever a new object of that class is instantiated.\n",
    "\n",
    "This type of function is also called constructors in Object Oriented Programming (OOP). We normally use it to initialize all the variables."
   ]
  },
  {
   "cell_type": "code",
   "execution_count": 8,
   "metadata": {},
   "outputs": [
    {
     "name": "stdout",
     "output_type": "stream",
     "text": [
      "5+6j\n"
     ]
    }
   ],
   "source": [
    "class ComplexNumber:\n",
    "    def __init__(self,r=0,i=1):\n",
    "        self.real=r;\n",
    "        self.imag=i;\n",
    "\n",
    "    def getData(self):\n",
    "        print('{0}+{1}j'.format(self.real,self.imag))\n",
    "\n",
    "\n",
    "c1=ComplexNumber(5,6)\n",
    "c1.getData()"
   ]
  },
  {
   "cell_type": "code",
   "execution_count": null,
   "metadata": {},
   "outputs": [],
   "source": [
    "class ComplexNumber:\n",
    "    def __init__(self, r=0, i=0):\n",
    "        self.real = r\n",
    "        self.imag = i\n",
    "\n",
    "    def get_data(self):\n",
    "        print(f'{self.real}+{self.imag}j')\n",
    "\n",
    "\n",
    "# Create a new ComplexNumber object\n",
    "num1 = ComplexNumber(2, 3)\n",
    "\n",
    "# Call get_data() method\n",
    "# Output: 2+3j\n",
    "num1.get_data()\n",
    "\n",
    "# Create another ComplexNumber object\n",
    "# and create a new attribute 'attr'\n",
    "num2 = ComplexNumber(5)\n",
    "num2.attr = 10\n",
    "\n",
    "# Output: (5, 0, 10)\n",
    "print((num2.real, num2.imag, num2.attr))\n",
    "\n",
    "# but c1 object doesn't have attribute 'attr'\n",
    "# AttributeError: 'ComplexNumber' object has no attribute 'attr'\n",
    "print(num1.attr)"
   ]
  },
  {
   "cell_type": "markdown",
   "metadata": {},
   "source": [
    "**Explanation:**\n",
    "\n",
    "In the above example, we defined a new class to represent complex numbers. It has two functions, **`__init__()`** to initialize the variables (defaults to zero) and **`get_data()`** to display the number properly.\n",
    "\n",
    "An interesting thing to note in the above step is that attributes of an object can be created on the fly. We created a new attribute **`attr`** for object **`num2`** and read it as well. But this does not create that attribute for object **`num1`**."
   ]
  },
  {
   "cell_type": "markdown",
   "metadata": {},
   "source": [
    "## Parameterized Constructor\n",
    "\n",
    "Constructor with **parameters** is known as **parameterized** constructor.The parameterized constructor take its first argument as a reference to the instance being constructed known as self and the rest of the arguments are provided by the programmer."
   ]
  },
  {
   "cell_type": "code",
   "execution_count": 2,
   "metadata": {},
   "outputs": [
    {
     "name": "stdout",
     "output_type": "stream",
     "text": [
      "This is parametrized constructor\n",
      "Hello World\n"
     ]
    }
   ],
   "source": [
    "class Student:\n",
    "    # Constructor - parameterized\n",
    "    def __init__(self, name):\n",
    "        print(\"This is parametrized constructor\")\n",
    "        self.name = name\n",
    "\n",
    "    def show(self):\n",
    "        print(\"Hello\",self.name)\n",
    "\n",
    "student = Student(\"World\")\n",
    "student.show()"
   ]
  },
  {
   "cell_type": "code",
   "execution_count": 3,
   "metadata": {},
   "outputs": [
    {
     "name": "stdout",
     "output_type": "stream",
     "text": [
      "Name :  Mark , Id :  101\n"
     ]
    }
   ],
   "source": [
    "# Example:\n",
    "\n",
    "class Student:\n",
    "    \n",
    "    # class attribute\n",
    "    'Common base class for all students'\n",
    "    student_count=0\n",
    "\n",
    "    def __init__(self, name, id):  # check the number of underscore '_' used\n",
    "        self.name = name\n",
    "        self.id = id\n",
    "        Student.student_count+=1\n",
    "\n",
    "    def printStudentData(self):\n",
    "        print (\"Name : \", self.name, \", Id : \", self.id)\n",
    "\n",
    "s=Student(\"Mark\",101)\n",
    "s.printStudentData()"
   ]
  },
  {
   "cell_type": "markdown",
   "metadata": {},
   "source": [
    "### Explanation:\n",
    "\n",
    "* The variable **`student_count`** is a class variable whose value is shared among all the instances of a in this class. This can be accessed as **`Student.student_count`** from inside the class or outside the class.\n",
    "\n",
    "* The first method **`__init__()`** is a special method, which is called class **constructor** or **initialization** method that Python calls when you create a new instance of this class.\n",
    "\n",
    "* You declare other class methods like normal functions with the exception that the first argument to each method is self. Python adds the self argument to the list for you; you do not need to include it when you call the methods."
   ]
  },
  {
   "cell_type": "code",
   "execution_count": null,
   "metadata": {},
   "outputs": [],
   "source": [
    "# Example 2: Creating Class and Object in Python\n",
    "\n",
    "class MasterStudentClass:\n",
    "    # class attribute\n",
    "    species = \"students\"\n",
    "\n",
    "    # instance attribute\n",
    "    def __init__(self, name, age):\n",
    "        self.name = name\n",
    "        self.age = age\n",
    "\n",
    "# instantiate the Parrot class\n",
    "jane = MasterStudentClass(\"Jane\", 18)\n",
    "bella = MasterStudentClass(\"Bella\", 19)\n",
    "candy = MasterStudentClass(\"Candy\", 17)\n",
    "lucia = MasterStudentClass(\"Lucia\", 18)\n",
    "ran = MasterStudentClass(\"Ran\", 20)\n",
    "\n",
    "# access the class attributes\n",
    "print(\"Jane is a {}\".format(jane.__class__.species))\n",
    "print(\"Bella is also a {}\".format(bella.__class__.species))\n"
   ]
  },
  {
   "cell_type": "markdown",
   "metadata": {},
   "source": [
    "## Creating Instance Objects\n",
    "\n",
    "To create instances of a class, you call the class using class name and pass in whatever arguments its **`__init__`** method accepts. \n",
    "Lets Create Studnet class object of above example : \n",
    "\n",
    "```python\n",
    "std=Student('Vijay','102')\n",
    "```"
   ]
  },
  {
   "cell_type": "markdown",
   "metadata": {},
   "source": [
    "## Accessing Attributes\n",
    "\n",
    "You access the object's attributes using the dot operator with object. Class variable would be accessed using class name as follows:"
   ]
  },
  {
   "cell_type": "code",
   "execution_count": null,
   "metadata": {},
   "outputs": [],
   "source": [
    "class Student:\n",
    "    'Common base class for all students'\n",
    "    student_count=0\n",
    "\n",
    "    def __init__(self, name, id):\n",
    "        self.name = name\n",
    "        self.id = id\n",
    "        Student.student_count+=1\n",
    "\n",
    "    def printStudentData(self):\n",
    "        print (\"Name : \", self.name, \", Id : \", self.id)\n",
    "\n",
    "std1=Student(\"Milan\",101)\n",
    "std2=Student(\"Vijay\",102)\n",
    "std3=Student(\"Chirag\",103)\n",
    "\n",
    "print(\"Total Student : \",Student.student_count)\n",
    "std1.printStudentData()\n",
    "std2.printStudentData()\n",
    "std3.printStudentData()"
   ]
  },
  {
   "cell_type": "markdown",
   "metadata": {},
   "source": [
    "Instead of using the normal statements to access attributes, you can use the following functions..\n",
    "\n",
    "* **`getattr(obj, name[, default])`** − to access the attribute of object. \n",
    "\n",
    "* **`hasattr(obj,name)`** − to check if an attribute exists or not. \n",
    "\n",
    "* **`setattr(obj,name,value)`** − to set an attribute. If attribute does not exist, then it would be created. \n",
    "\n",
    "* **`delattr(obj, name)`** − to delete an attribute. \n",
    "\n",
    "Example :\n",
    "\n",
    "```python\n",
    "hasattr(std1, 'id') # Returns true if 'id' attribute exists\n",
    "getattr(std1, 'id') # Returns value of 'id' attribute\n",
    "setattr(std1, 'id', 104) # Set attribute 'id' 104\n",
    "delattr(std1, 'id') # Delete attribute 'id'\n",
    "```"
   ]
  },
  {
   "cell_type": "markdown",
   "metadata": {},
   "source": [
    "## Built-In Class Attributes\n",
    "\n",
    "Every Python class keeps following built-in attributes and they can be accessed using **dot operator** like any other attribute −\n",
    "\n",
    "* **`__dict__`**  : Dictionary containing the class's namespace. \n",
    "* **`__doc__`** : Class documentation string or none, if undefined. \n",
    "* **`__name__`** : Class name. \n",
    "* **`__module__`**  : Module name in which the class is defined. This attribute is \"**`__main__`**\" in interactive mode. \n",
    "* **`__bases__`** : A possibly empty tuple containing the base classes, in the order of their occurrence in the base class list.\n",
    "\n",
    "let us try to access all these attributes"
   ]
  },
  {
   "cell_type": "code",
   "execution_count": null,
   "metadata": {},
   "outputs": [],
   "source": [
    "\n",
    "class Student:\n",
    "    'Common base class for all students'\n",
    "    student_count=0\n",
    "\n",
    "    def __init__(self, name, id):\n",
    "        self.name = name\n",
    "        self.id = id\n",
    "        Student.student_count+=1\n",
    "\n",
    "    def printStudentData(self):\n",
    "        print (\"Name : \", self.name, \", Id : \", self.id)\n",
    "\n",
    "std1=Student(\"Milan\",101)\n",
    "std2=Student(\"Vijay\",102)\n",
    "std3=Student(\"Chirag\",103)\n",
    "\n",
    "print(\"Total Student : \",Student.student_count)\n",
    "print (\"Student.__doc__:\", Student.__doc__)\n",
    "print (\"StudentStudent.__name__:\", Student.__name__)\n",
    "print (\"Student.__module__:\", Student.__module__)\n",
    "print (\"Student.__bases__:\", Student.__bases__)\n",
    "print (\"Student.__dict__:\", Student.__dict__)"
   ]
  },
  {
   "cell_type": "markdown",
   "metadata": {},
   "source": [
    "## Deleting Attributes and Objects\n",
    "\n",
    "Any attribute of an object can be deleted anytime, using the del statement. Try the following on the Python shell to see the output."
   ]
  },
  {
   "cell_type": "code",
   "execution_count": null,
   "metadata": {},
   "outputs": [],
   "source": [
    "num1 = ComplexNumber(2,3)\n",
    "del num1.imag\n",
    "num1.get_data()"
   ]
  },
  {
   "cell_type": "code",
   "execution_count": null,
   "metadata": {},
   "outputs": [],
   "source": [
    "del ComplexNumber.get_data\n",
    "num1.get_data()"
   ]
  },
  {
   "cell_type": "markdown",
   "metadata": {},
   "source": [
    "We can even delete the object itself, using the del statement!"
   ]
  },
  {
   "cell_type": "code",
   "execution_count": null,
   "metadata": {},
   "outputs": [],
   "source": [
    "c1 = ComplexNumber(1,3)\n",
    "del c1\n",
    "c1"
   ]
  },
  {
   "cell_type": "markdown",
   "metadata": {},
   "source": [
    "**Explanation:**\n",
    "\n",
    "Actually, it is more complicated than that. When we do **`c1 = ComplexNumber(1,3)`**, a new instance object is created in memory and the name **`c1`** binds with it.\n",
    "\n",
    "On the command **`del c1`**, this binding is removed and the name **`c1`** is deleted from the corresponding namespace. The object however continues to exist in memory and if no other name is bound to it, it is later automatically destroyed.\n",
    "\n",
    "This automatic destruction of unreferenced objects in Python is also called garbage collection.\n",
    "\n",
    "<div>\n",
    "<img src=\"img/objr.png\" width=\"450\"/>\n",
    "</div>"
   ]
  },
  {
   "cell_type": "code",
   "execution_count": null,
   "metadata": {},
   "outputs": [],
   "source": []
  }
 ],
 "metadata": {
  "hide_input": false,
  "kernelspec": {
   "display_name": "Python 3",
   "language": "python",
   "name": "python3"
  },
  "language_info": {
   "codemirror_mode": {
    "name": "ipython",
    "version": 3
   },
   "file_extension": ".py",
   "mimetype": "text/x-python",
   "name": "python",
   "nbconvert_exporter": "python",
   "pygments_lexer": "ipython3",
   "version": "3.8.8"
  },
  "toc": {
   "base_numbering": 1,
   "nav_menu": {},
   "number_sections": true,
   "sideBar": true,
   "skip_h1_title": false,
   "title_cell": "Table of Contents",
   "title_sidebar": "Contents",
   "toc_cell": false,
   "toc_position": {},
   "toc_section_display": true,
   "toc_window_display": false
  },
  "varInspector": {
   "cols": {
    "lenName": 16,
    "lenType": 16,
    "lenVar": 40
   },
   "kernels_config": {
    "python": {
     "delete_cmd_postfix": "",
     "delete_cmd_prefix": "del ",
     "library": "var_list.py",
     "varRefreshCmd": "print(var_dic_list())"
    },
    "r": {
     "delete_cmd_postfix": ") ",
     "delete_cmd_prefix": "rm(",
     "library": "var_list.r",
     "varRefreshCmd": "cat(var_dic_list()) "
    }
   },
   "types_to_exclude": [
    "module",
    "function",
    "builtin_function_or_method",
    "instance",
    "_Feature"
   ],
   "window_display": false
  }
 },
 "nbformat": 4,
 "nbformat_minor": 2
}
