{
 "cells": [
  {
   "cell_type": "markdown",
   "metadata": {},
   "source": [
    "<small><small><i>\n",
    "All of these python notebooks are available at [ https://github.com/milaan9/Python4DataScience ]\n",
    "</i></small></small>"
   ]
  },
  {
   "cell_type": "markdown",
   "metadata": {},
   "source": [
    "# Python Operator Overloading\n",
    "\n",
    "You can change the meaning of an operator in Python depending upon the operands used. In this tutorial, you will learn how to use operator overloading in Python Object Oriented Programming."
   ]
  },
  {
   "cell_type": "markdown",
   "metadata": {},
   "source": [
    "## Python Operator Overloading\n",
    "\n",
    "[**Python operators**](http://localhost:8888/notebooks/01_Learn_Python4Data/01_Python_Introduction/012_Python_Operators.ipynb) work for built-in classes. But the same operator behaves differently with different types. For example, the **`+`** operator will perform arithmetic addition on two numbers, merge two lists, or concatenate two strings.\n",
    "\n",
    "This feature in Python that allows the same operator to have different meaning according to the context is called operator overloading.\n",
    "\n",
    "So what happens when we use them with objects of a user-defined class? Let us consider the following class, which tries to simulate a point in 2-D coordinate system."
   ]
  },
  {
   "cell_type": "code",
   "execution_count": null,
   "metadata": {},
   "outputs": [],
   "source": [
    "class Point:\n",
    "    def __init__(self, x=0, y=0):\n",
    "        self.x = x\n",
    "        self.y = y\n",
    "\n",
    "\n",
    "p1 = Point(1, 2)\n",
    "p2 = Point(2, 3)\n",
    "print(p1+p2)"
   ]
  },
  {
   "cell_type": "code",
   "execution_count": 1,
   "metadata": {},
   "outputs": [
    {
     "name": "stdout",
     "output_type": "stream",
     "text": [
      "1505,1540,1575,1610,1645,1680,1715,1750,1785,1820,1855,1890,1925,1960,1995,2030,2065,2100,2135,2170,2205,2240,2275,2310,2345,2380,2415,2450,2485,2520,2555,2590,2625,2660,2695\n"
     ]
    }
   ],
   "source": [
    "nl=[]\n",
    "for x in range(1500, 2701):\n",
    "    if (x%7==0) and (x%5==0):\n",
    "        nl.append(str(x))\n",
    "print (','.join(nl))"
   ]
  },
  {
   "cell_type": "markdown",
   "metadata": {},
   "source": [
    "**Explanation:**\n",
    "\n",
    "Here, we can see that a **`TypeError`** was raised, since Python didn't know how to add two **`Point`** objects together.\n",
    "\n",
    "However, we can achieve this task in Python through operator overloading. But first, let's get a notion about special functions."
   ]
  },
  {
   "cell_type": "markdown",
   "metadata": {},
   "source": [
    "## Python Special Functions\n",
    "\n",
    "Class functions that begin with double underscore **`__`** are called special functions in Python.\n",
    "\n",
    "These functions are not the typical functions that we define for a class. The **`__init__()`** function we defined above is one of them. It gets called every time we create a new object of that class.\n",
    "\n",
    "There are numerous other special functions in Python. Visit [**Python Special Functions**](https://docs.python.org/3/reference/datamodel.html#special-method-names) to learn more about them.\n",
    "\n",
    "Using special functions, we can make our class compatible with built-in functions."
   ]
  },
  {
   "cell_type": "code",
   "execution_count": null,
   "metadata": {},
   "outputs": [],
   "source": [
    "p1 = Point(2,3)\n",
    "print(p1)"
   ]
  },
  {
   "cell_type": "markdown",
   "metadata": {},
   "source": [
    "Suppose we want the **`print()`** function to print the coordinates of the **`Point`** object instead of what we got. We can define a **`__str__()`** method in our class that controls how the object gets printed. Let's look at how we can achieve this:\n",
    "\n",
    "```python\n",
    "class Point:\n",
    "    def __init__(self, x = 0, y = 0):\n",
    "        self.x = x\n",
    "        self.y = y\n",
    "    \n",
    "    def __str__(self):\n",
    "        return \"({0},{1})\".format(self.x,self.y)\n",
    "```"
   ]
  },
  {
   "cell_type": "markdown",
   "metadata": {},
   "source": [
    "Now let's try the **`print()`** function again."
   ]
  },
  {
   "cell_type": "code",
   "execution_count": null,
   "metadata": {},
   "outputs": [],
   "source": [
    "class Point:\n",
    "    def __init__(self, x=0, y=0):\n",
    "        self.x = x\n",
    "        self.y = y\n",
    "\n",
    "    def __str__(self):\n",
    "        return \"({0}, {1})\".format(self.x, self.y)\n",
    "\n",
    "\n",
    "p1 = Point(2, 3)\n",
    "print(p1)"
   ]
  },
  {
   "cell_type": "markdown",
   "metadata": {},
   "source": [
    "That's better. Turns out, that this same method is invoked when we use the built-in function **`str()`** or **`format()`**."
   ]
  },
  {
   "cell_type": "code",
   "execution_count": null,
   "metadata": {},
   "outputs": [],
   "source": [
    "str(p1)"
   ]
  },
  {
   "cell_type": "code",
   "execution_count": null,
   "metadata": {},
   "outputs": [],
   "source": [
    "format(p1)"
   ]
  },
  {
   "cell_type": "markdown",
   "metadata": {},
   "source": [
    "So, when you use **`str(p1)`** or **`format(p1)`**, Python internally calls the **`p1.__str__()`** method. Hence the name, special functions.\n",
    "\n",
    "Now let's go back to operator overloading."
   ]
  },
  {
   "cell_type": "markdown",
   "metadata": {},
   "source": [
    "## Overloading the `+` Operator\n",
    "\n",
    "To overload the **`+`** operator, we will need to implement **`__add__()`** function in the class. With great power comes great responsibility. We can do whatever we like, inside this function. But it is more sensible to return a **`Point`** object of the coordinate sum.\n",
    "\n",
    "```python\n",
    "class Point:\n",
    "    def __init__(self, x=0, y=0):\n",
    "        self.x = x\n",
    "        self.y = y\n",
    "\n",
    "    def __str__(self):\n",
    "        return \"({0},{1})\".format(self.x, self.y)\n",
    "\n",
    "    def __add__(self, other):\n",
    "        x = self.x + other.x\n",
    "        y = self.y + other.y\n",
    "        return Point(x, y)\n",
    "```"
   ]
  },
  {
   "cell_type": "markdown",
   "metadata": {},
   "source": [
    "Now let's try the addition operation again:"
   ]
  },
  {
   "cell_type": "code",
   "execution_count": null,
   "metadata": {},
   "outputs": [],
   "source": [
    "class Point:\n",
    "    def __init__(self, x=0, y=0):\n",
    "        self.x = x\n",
    "        self.y = y\n",
    "\n",
    "    def __str__(self):\n",
    "        return \"({0},{1})\".format(self.x, self.y)\n",
    "\n",
    "    def __add__(self, other):\n",
    "        x = self.x + other.x\n",
    "        y = self.y + other.y\n",
    "        return Point(x, y)\n",
    "\n",
    "\n",
    "p1 = Point(1, 2)\n",
    "p2 = Point(2, 3)\n",
    "\n",
    "print(p1+p2)"
   ]
  },
  {
   "cell_type": "markdown",
   "metadata": {},
   "source": [
    "**Explanation:**\n",
    "\n",
    "What actually happens is that, when you use **`p1 + p2`**, Python calls **`p1.__add__(p2)`** which in turn is **`Point.__add__(p1,p2)`**. After this, the addition operation is carried out the way we specified.\n",
    "\n",
    "Similarly, we can overload other operators as well. The special function that we need to implement is tabulated below."
   ]
  },
  {
   "cell_type": "markdown",
   "metadata": {},
   "source": [
    "| Operator | Expression | Internally | \n",
    "|:----| :--- |:--- |\n",
    "| **Addition**            |  **`p1 + p2`**  | **`p1.__add__(p2)`** | \n",
    "| **Subtraction**         |  **`p1 - p2`**  | **`p1.__sub__(p2)`** | \n",
    "| **Multiplication**      |  **`p1 * p2`**  | **`p1.__mul__(p2)`** | \n",
    "| **Power**               |  **`p1 ** p2`** | **`p1.__pow__(p2)`** | \n",
    "| **Division**            |  **`p1 / p2`**  | **`p1.__truediv__(p2)`** | \n",
    "| **Floor Division**      |  **`p1 // p2`** | **`p1.__floordiv__(p2)`** | \n",
    "| **Remainder (modulo)**  |  **`p1 % p2`**  | **`p1.__mod__(p2)`** | \n",
    "| **Bitwise Left Shift**  |  **`p1 << p2`** | **`p1.__lshift__(p2)`** | \n",
    "| **Bitwise Right Shift** |  **`p1 >> p2`** | **`p1.__rshift__(p2)`** | \n",
    "| **Bitwise AND**         |  **`p1 & p2`**  | **`p1.__and__(p2)`** | \n",
    "| **Bitwise OR**          |  **`p1 | p2`**  | **`p1.__or__(p2)`** | \n",
    "| **Bitwise XOR**         |  **`p1 ^ p2`**  | **`p1.__xor__(p2)`** | \n",
    "| **Bitwise NOT**         |  **`~p1`**      | **`p1.__invert__()`** | "
   ]
  },
  {
   "cell_type": "markdown",
   "metadata": {},
   "source": [
    "## Overloading Comparison Operators\n",
    "\n",
    "Python does not limit operator overloading to arithmetic operators only. We can overload comparison operators as well.\n",
    "\n",
    "Suppose we wanted to implement the less than symbol **`<`** symbol in our **`Point`** class.\n",
    "\n",
    "Let us compare the magnitude of these points from the origin and return the result for this purpose. It can be implemented as follows."
   ]
  },
  {
   "cell_type": "code",
   "execution_count": null,
   "metadata": {},
   "outputs": [],
   "source": [
    "# overloading the less than operator\n",
    "class Point:\n",
    "    def __init__(self, x=0, y=0):\n",
    "        self.x = x\n",
    "        self.y = y\n",
    "\n",
    "    def __str__(self):\n",
    "        return \"({0},{1})\".format(self.x, self.y)\n",
    "\n",
    "    def __lt__(self, other):\n",
    "        self_mag = (self.x ** 2) + (self.y ** 2)\n",
    "        other_mag = (other.x ** 2) + (other.y ** 2)\n",
    "        return self_mag < other_mag\n",
    "\n",
    "p1 = Point(1,1)\n",
    "p2 = Point(-2,-3)\n",
    "p3 = Point(1,-1)\n",
    "\n",
    "# use less than\n",
    "print(p1<p2)\n",
    "print(p2<p3)\n",
    "print(p1<p3)"
   ]
  },
  {
   "cell_type": "markdown",
   "metadata": {},
   "source": [
    "Similarly, the special functions that we need to implement, to overload other comparison operators are tabulated below."
   ]
  },
  {
   "cell_type": "markdown",
   "metadata": {},
   "source": [
    "| Operator | Expression | Internally | \n",
    "|:----| :--- |:--- |\n",
    "| **Less than**                |  **`p1 < p2`**   | **`p1.__lt__(p2)`** | \n",
    "| **Less than or equal to**    |  **`p1 <= p2`**  | **`p1.__le__(p2)`** | \n",
    "| **Equal to**                 |  **`p1 == p2`**  | **`p1.__eq__(p2)`** | \n",
    "| **Not equal to**             |  **`p1 != p2`**  | **`p1.__ne__(p2)`** | \n",
    "| **Greater than**             |  **`p1 > p2`**   | **`p1.__gt__(p2)`** | \n",
    "| **Greater than or equal to** |  **`p1 >= p2`**  | **`p1.__ge__(p2)`** | "
   ]
  },
  {
   "cell_type": "code",
   "execution_count": null,
   "metadata": {},
   "outputs": [],
   "source": []
  }
 ],
 "metadata": {
  "kernelspec": {
   "display_name": "Python 3",
   "language": "python",
   "name": "python3"
  },
  "language_info": {
   "codemirror_mode": {
    "name": "ipython",
    "version": 3
   },
   "file_extension": ".py",
   "mimetype": "text/x-python",
   "name": "python",
   "nbconvert_exporter": "python",
   "pygments_lexer": "ipython3",
   "version": "3.8.3"
  }
 },
 "nbformat": 4,
 "nbformat_minor": 2
}
