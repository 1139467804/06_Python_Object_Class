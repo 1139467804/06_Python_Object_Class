{
 "cells": [
  {
   "cell_type": "markdown",
   "metadata": {},
   "source": [
    "<small><small><i>\n",
    "All of these python notebooks are available at [ https://github.com/milaan9/Python4DataScience ]\n",
    "</i></small></small>"
   ]
  },
  {
   "cell_type": "markdown",
   "metadata": {},
   "source": [
    "# Python Multiple and Multilevel Inheritance\n",
    "\n",
    "In this class, you'll learn about multiple and multilevel inheritance in Python and how to use it in your program. You'll also learn about multi-level inheritance and the method resolution order."
   ]
  },
  {
   "cell_type": "markdown",
   "metadata": {},
   "source": [
    "## 1. Python Multiple Inheritance\n",
    "\n",
    "A [**class**](http://localhost:8888/notebooks/01_Learn_Python4Data/06_Python_Object_Class/002_Python_Classes_and_Objects.ipynb) can be derived from more than one base class in Python, similar to C++. This is called multiple inheritance.\n",
    "\n",
    "In multiple inheritance, the features of all the base classes are inherited into the derived class. The syntax for multiple inheritance is similar to single [**inheritance**](http://localhost:8888/notebooks/01_Learn_Python4Data/06_Python_Object_Class/003_Python_Inheritance.ipynb).\n",
    "\n",
    "Example:\n",
    "\n",
    "```python\n",
    "class Base1:\n",
    "    pass\n",
    "\n",
    "class Base2:\n",
    "    pass\n",
    "\n",
    "class MultiDerived(Base1, Base2):\n",
    "    pass\n",
    "```\n",
    "\n",
    "<div>\n",
    "<img src=\"img/mpi.png\" width=\"350\"/>\n",
    "</div>\n",
    "\n",
    "Here, the **`MultiDerived`** class is derived from **`Base1`** and **`Base2`** classes."
   ]
  },
  {
   "cell_type": "code",
   "execution_count": 1,
   "metadata": {
    "scrolled": false
   },
   "outputs": [
    {
     "name": "stdout",
     "output_type": "stream",
     "text": [
      "first\n",
      "second\n",
      "third\n"
     ]
    }
   ],
   "source": [
    "# Example 1:\n",
    "\n",
    "class First(object):  # parent class1\n",
    "    def __init__(self):\n",
    "        super(First, self).__init__()\n",
    "        print(\"first\")\n",
    "\n",
    "class Second(object):  # parent class2\n",
    "    def __init__(self):\n",
    "        super(Second, self).__init__()\n",
    "        print(\"second\")\n",
    "\n",
    "class Third(Second, First):  # child class derived from parent class1 and parent class2\n",
    "    def __init__(self):\n",
    "        super(Third, self).__init__()\n",
    "        print(\"third\")\n",
    "\n",
    "Third(); #call Third class constructor"
   ]
  },
  {
   "cell_type": "code",
   "execution_count": 2,
   "metadata": {},
   "outputs": [
    {
     "name": "stdout",
     "output_type": "stream",
     "text": [
      "Dog has four legs.\n",
      "Dog is a warm-blooded animal.\n"
     ]
    }
   ],
   "source": [
    "# Example 2:\n",
    "\n",
    "class Mammal(object):\n",
    "    def __init__(self, mammalName):\n",
    "        print(mammalName, 'is a warm-blooded animal.')\n",
    "    \n",
    "class Dog(Mammal):\n",
    "    def __init__(self):\n",
    "        print('Dog has four legs.')\n",
    "        super().__init__('Dog')\n",
    "    \n",
    "d1 = Dog()"
   ]
  },
  {
   "cell_type": "markdown",
   "metadata": {},
   "source": [
    "**Explanation**:\n",
    "\n",
    "Here, we called the **`__init__()`** method of the **`Mammal`** class (from the **`Dog`** class) using code\n",
    "\n",
    "**`super().__init__('Dog')`**\n",
    "\n",
    "instead of\n",
    "\n",
    "**`Mammal.__init__(self, 'Dog')`**\n",
    "\n",
    "Since we do not need to specify the name of the base class when we call its members, we can easily change the base class name (if we need to).\n",
    "\n",
    "```python\n",
    "# changing base class to CanidaeFamily\n",
    "class Dog(CanidaeFamily):\n",
    "  def __init__(self):\n",
    "    print('Dog has four legs.')\n",
    "\n",
    "    # no need to change this\n",
    "    super().__init__('Dog')\n",
    "```"
   ]
  },
  {
   "cell_type": "markdown",
   "metadata": {},
   "source": [
    "The **`super()`** builtin returns a proxy object, a substitute object that can call methods of the base class via delegation. This is called indirection (ability to reference base object with **`super()`**)\n",
    "\n",
    "Since the indirection is computed at the runtime, we can use different base classes at different times (if we need to)."
   ]
  },
  {
   "cell_type": "code",
   "execution_count": 3,
   "metadata": {},
   "outputs": [
    {
     "name": "stdout",
     "output_type": "stream",
     "text": [
      "Dog has 4 legs.\n",
      "Dog can't swim.\n",
      "Dog can't fly.\n",
      "Dog is a warm-blooded animal.\n",
      "Dog is an animal.\n",
      "\n",
      "Bat can't swim.\n",
      "Bat is a warm-blooded animal.\n",
      "Bat is an animal.\n"
     ]
    }
   ],
   "source": [
    "# Example 3:\n",
    "\n",
    "class Animal:\n",
    "    def __init__(self, Animal):\n",
    "        print(Animal, 'is an animal.');\n",
    "\n",
    "class Mammal(Animal):  # Mammal derived to Animal\n",
    "    def __init__(self, mammalName):\n",
    "        print(mammalName, 'is a warm-blooded animal.')\n",
    "        super().__init__(mammalName)\n",
    "    \n",
    "class NonWingedMammal(Mammal):  # NonWingedMammal derived from Mammal (derived from Animal)\n",
    "    def __init__(self, NonWingedMammal):\n",
    "        print(NonWingedMammal, \"can't fly.\")\n",
    "        super().__init__(NonWingedMammal)\n",
    "\n",
    "class NonMarineMammal(Mammal):  # NonMarineMammal derived from Mammal (derived from Animal)\n",
    "    def __init__(self, NonMarineMammal):\n",
    "        print(NonMarineMammal, \"can't swim.\")\n",
    "        super().__init__(NonMarineMammal)\n",
    "\n",
    "class Dog(NonMarineMammal, NonWingedMammal):  # Dog derived from NonMarineMammal and NonWingedMammal\n",
    "    def __init__(self):\n",
    "        print('Dog has 4 legs.');\n",
    "        super().__init__('Dog')\n",
    "    \n",
    "d = Dog()\n",
    "print('')\n",
    "bat = NonMarineMammal('Bat')"
   ]
  },
  {
   "cell_type": "markdown",
   "metadata": {},
   "source": [
    "### Why `super()` keyword\n",
    "\n",
    "The **`super()`** method is most commonly used with **`__init__`** function in base class. This is usually the only place where we need to do some things in a child then complete the **initialization** in the **parent**.\n",
    "\n",
    "```python\n",
    "class Child(Parent):\n",
    "    def __init__(self, stuff)\n",
    "        self.stuff = stuff\n",
    "        super(Child, self).__init__()\n",
    "```"
   ]
  },
  {
   "cell_type": "markdown",
   "metadata": {},
   "source": [
    "### Private members of parent class\n",
    "\n",
    "We don’t always want the instance variables of the parent class to be inherited by the child class i.e. we can make some of the instance variables of the parent class private, which won’t be available to the child class.  We can make an instance variable by adding double underscores before its name. "
   ]
  },
  {
   "cell_type": "code",
   "execution_count": null,
   "metadata": {
    "scrolled": false
   },
   "outputs": [],
   "source": [
    "## Example:\n",
    "\n",
    "# Python program to demonstrate private members\n",
    "# of the parent class\n",
    "class C(object):\n",
    "    def __init__(self):\n",
    "            self.c = 21\n",
    "            # d is private instance variable\n",
    "            self.__d = 42  # Note: before 'd' there are two '_'\n",
    "\n",
    "class D(C):\n",
    "    def __init__(self):\n",
    "            self.e = 84\n",
    "            C.__init__(self)\n",
    "\n",
    "object1 = D()\n",
    "# produces an error as d is private instance variable\n",
    "print(D.d)"
   ]
  },
  {
   "cell_type": "markdown",
   "metadata": {},
   "source": [
    "## 2. Python Multilevel Inheritance\n",
    "\n",
    "We can also inherit from a derived class. This is called multilevel inheritance. It can be of any depth in Python.\n",
    "\n",
    "In multilevel inheritance, features of the base class and the derived class are inherited into the new derived class.\n",
    "\n",
    "An example with corresponding visualization is given below.\n",
    "\n",
    "```python\n",
    "class Base:\n",
    "    pass\n",
    "\n",
    "class Derived1(Base):\n",
    "    pass\n",
    "\n",
    "class Derived2(Derived1):\n",
    "    pass\n",
    "```\n",
    "\n",
    "Here, the **`Derived1`** class is derived from the **`Base`** class, and the **`Derived2`** class is derived from the **`Derived1`** class.\n",
    "\n",
    "<div>\n",
    "<img src=\"img/mli.png\" width=\"150\"/>\n",
    "</div>"
   ]
  },
  {
   "cell_type": "code",
   "execution_count": 4,
   "metadata": {},
   "outputs": [
    {
     "name": "stdout",
     "output_type": "stream",
     "text": [
      "Eating...\n",
      "Barking...\n",
      "Weeping...\n"
     ]
    }
   ],
   "source": [
    "# Example 1:\n",
    "\n",
    "class Animal:  # grandparent class\n",
    "    def eat(self):\n",
    "        print('Eating...')\n",
    "\n",
    "class Dog(Animal):  # parent class\n",
    "    def bark(self):\n",
    "        print('Barking...')\n",
    "\n",
    "class BabyDog(Dog):  # child class\n",
    "    def weep(self):\n",
    "        print('Weeping...')\n",
    "\n",
    "d=BabyDog()\n",
    "d.eat()\n",
    "d.bark()\n",
    "d.weep()"
   ]
  },
  {
   "cell_type": "markdown",
   "metadata": {},
   "source": [
    "## Method Resolution Order in Python\n",
    "\n",
    "Every class in Python is derived from the **`object`** class. It is the most base type in Python.\n",
    "\n",
    "So technically, all other classes, either built-in or user-defined, are derived classes and all objects are instances of the **`object`** class."
   ]
  },
  {
   "cell_type": "code",
   "execution_count": null,
   "metadata": {},
   "outputs": [],
   "source": [
    "# Output: True\n",
    "print(issubclass(list,object))"
   ]
  },
  {
   "cell_type": "code",
   "execution_count": null,
   "metadata": {},
   "outputs": [],
   "source": [
    "# Output: True\n",
    "print(isinstance(5.5,object))"
   ]
  },
  {
   "cell_type": "code",
   "execution_count": null,
   "metadata": {},
   "outputs": [],
   "source": [
    "# Output: True\n",
    "print(isinstance(\"Hello\",object))"
   ]
  },
  {
   "cell_type": "markdown",
   "metadata": {},
   "source": [
    "In the multiple inheritance scenario, any specified attribute is searched first in the current class. If not found, the search continues into parent classes in depth-first, left-right fashion without searching the same class twice.\n",
    "\n",
    "So, in the above example of **`MultiDerived`** class the search order is [**`MultiDerived`**, **`Base1`**, **`Base2`**, **`object`**]. This order is also called linearization of **`MultiDerived`** class and the set of rules used to find this order is called **Method Resolution Order (MRO)**.\n",
    "\n",
    "MRO must prevent local precedence ordering and also provide monotonicity. It ensures that a class always appears before its parents. In case of multiple parents, the order is the same as tuples of base classes.\n",
    "\n",
    "MRO of a class can be viewed as the **`__mro__`** attribute or the **`mro()`** method. The former returns a tuple while the latter returns a list\n",
    "\n",
    "```python\n",
    ">>> MultiDerived.__mro__\n",
    "(<class '__main__.MultiDerived'>,\n",
    " <class '__main__.Base1'>,\n",
    " <class '__main__.Base2'>,\n",
    " <class 'object'>)\n",
    "\n",
    ">>> MultiDerived.mro()\n",
    "[<class '__main__.MultiDerived'>,\n",
    " <class '__main__.Base1'>,\n",
    " <class '__main__.Base2'>,\n",
    " <class 'object'>]\n",
    "```"
   ]
  },
  {
   "cell_type": "markdown",
   "metadata": {},
   "source": [
    "Here is a little more complex multiple inheritance example and its visualization along with the MRO.\n",
    "\n",
    "<div>\n",
    "<img src=\"img/MRO.png\" width=\"300\"/>\n",
    "</div>"
   ]
  },
  {
   "cell_type": "code",
   "execution_count": 5,
   "metadata": {
    "scrolled": true
   },
   "outputs": [
    {
     "name": "stdout",
     "output_type": "stream",
     "text": [
      "[<class '__main__.M'>, <class '__main__.B'>, <class '__main__.A'>, <class '__main__.X'>, <class '__main__.Y'>, <class '__main__.Z'>, <class 'object'>]\n"
     ]
    }
   ],
   "source": [
    "# Demonstration of MRO\n",
    "\n",
    "class X:\n",
    "    pass\n",
    "\n",
    "\n",
    "class Y:\n",
    "    pass\n",
    "\n",
    "\n",
    "class Z:\n",
    "    pass\n",
    "\n",
    "\n",
    "class A(X, Y):\n",
    "    pass\n",
    "\n",
    "\n",
    "class B(Y, Z):\n",
    "    pass\n",
    "\n",
    "\n",
    "class M(B, A, Z):\n",
    "    pass\n",
    "\n",
    "# Output:\n",
    "# [<class '__main__.M'>, <class '__main__.B'>,\n",
    "#  <class '__main__.A'>, <class '__main__.X'>,\n",
    "#  <class '__main__.Y'>, <class '__main__.Z'>,\n",
    "#  <class 'object'>]\n",
    "\n",
    "print(M.mro())"
   ]
  },
  {
   "cell_type": "markdown",
   "metadata": {},
   "source": [
    "To know the actual algorithm on how MRO is calculated, visit [**Discussion on MRO**](https://www.python.org/download/releases/2.3/mro/)."
   ]
  },
  {
   "cell_type": "code",
   "execution_count": null,
   "metadata": {},
   "outputs": [],
   "source": []
  }
 ],
 "metadata": {
  "kernelspec": {
   "display_name": "Python 3",
   "language": "python",
   "name": "python3"
  },
  "language_info": {
   "codemirror_mode": {
    "name": "ipython",
    "version": 3
   },
   "file_extension": ".py",
   "mimetype": "text/x-python",
   "name": "python",
   "nbconvert_exporter": "python",
   "pygments_lexer": "ipython3",
   "version": "3.8.3"
  }
 },
 "nbformat": 4,
 "nbformat_minor": 2
}
